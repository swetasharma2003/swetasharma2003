{
 "cells": [
  {
   "cell_type": "code",
   "execution_count": 1,
   "id": "f8c09af8-1731-4c35-afdc-bd4d8e097f25",
   "metadata": {
    "collapsed": true,
    "jupyter": {
     "outputs_hidden": true
    },
    "tags": []
   },
   "outputs": [
    {
     "name": "stdout",
     "output_type": "stream",
     "text": [
      "                 Category  Small  Medium  Large\n",
      "0                 MIX VEG     55      80    110\n",
      "1              SWEET CORN     55      80    110\n",
      "2                  PANEER     65      95    130\n",
      "3                MUSHROOM     65      95    130\n",
      "4          ONION CAPSICUM     55      80    110\n",
      "5             RED PEPRIKA     60      90    120\n",
      "6                TANDOORI     60      90    120\n",
      "7           CHILLI GARLIC     60      90    120\n",
      "8                SOYABEEN     55      80    110\n",
      "9             ONLY CHEESE     55      80    110\n",
      "10   MALAI MAKHANI PANEER     75     105    150\n",
      "11         FRUIT COCKTAIL     75     105    150\n",
      "12             PINE APPLE     65     100    130\n",
      "13           MALAI PANEER     75     105    150\n",
      "14            MALAI CHAAP     75     110    150\n",
      "15              BABY CORN     65     100    130\n",
      "16  CHILI GARLIC MASHROOM     75     105    150\n"
     ]
    },
    {
     "name": "stdin",
     "output_type": "stream",
     "text": [
      "enter pizza category ONION CAPSICUM\n",
      "enter pizza size Medium\n",
      "enter pizza qty 10\n",
      "do you want more?(Y/N): Y\n",
      "enter pizza category SWEET CORN\n",
      "enter pizza size Large\n",
      "enter pizza qty 10\n",
      "do you want more?(Y/N): Y\n",
      "enter pizza category MUSHROOM\n",
      "enter pizza size Medium\n",
      "enter pizza qty 10\n",
      "do you want more?(Y/N): Y\n",
      "enter pizza category RED PEPRIKA\n",
      "enter pizza size Large\n",
      "enter pizza qty 10\n",
      "do you want more?(Y/N): Y\n",
      "enter pizza category FRUIT COCKTAIL\n",
      "enter pizza size Medium\n",
      "enter pizza qty 10\n",
      "do you want more?(Y/N): N\n"
     ]
    },
    {
     "name": "stdout",
     "output_type": "stream",
     "text": [
      "{1: ['ONION CAPSICUM', 'Medium', 10, 80, 800], 2: ['SWEET CORN', 'Large', 10, 110, 1100], 3: ['MUSHROOM', 'Medium', 10, 95, 950], 4: ['RED PEPRIKA', 'Large', 10, 120, 1200], 5: ['FRUIT COCKTAIL', 'Medium', 10, 105, 1050]}\n",
      "5100\n"
     ]
    }
   ],
   "source": [
    "import pandas as pd\n",
    "\n",
    "menu=pd.read_csv(\"pizza_menu.csv\")\n",
    "print(menu)\n",
    "\n",
    "\n",
    "\n",
    "d={}\n",
    "order=0\n",
    "while True:\n",
    "    pizza=input(\"enter pizza category\")\n",
    "    size=input(\"enter pizza size\")\n",
    "    qty=int(input(\"enter pizza qty\"))\n",
    "    \n",
    "    price=menu[menu['Category']==pizza][size].to_list()[0]\n",
    "    total_price=price*qty\n",
    "    order +=1\n",
    "    d[order]=[pizza,size,qty,price,total_price]\n",
    "    \n",
    "    flag=input(\"do you want more?(Y/N):\")    \n",
    "    if flag=='Y':\n",
    "        continue\n",
    "    else:\n",
    "        break\n",
    "        \n",
    "print(d)\n",
    "    \n",
    "\n",
    "grand_total=0\n",
    "\n",
    "for i in d.keys():\n",
    "    grand_total+=d[i][-1]\n",
    "    \n",
    "print(grand_total)\n",
    "\n",
    "f=open(\"bill.txt\",'w')\n",
    "f.write(f'{\"s no.\":<10}{\"Category\":<20}{\"Size\":<10}{\"Qty\":<10}{\"Price\":<10}{\"total\":<10}\\n')\n",
    "for i in d.keys():\n",
    "    f.write(f'{i:<10}{d[i][0]:<20}{d[i][1]:<10}{d[i][2]:<10}{d[i][3]:<10}{d[i][4]:<10}\\n')\n",
    "    \n",
    "f.write(\"===============================================================================\\n\")\n",
    "f.write(f'{\"total bill amount:\":<60}{grand_total:<5}\\n')\n",
    "f.write(\"===============================================================================\\n\")\n",
    "\n",
    "f.close()\n",
    "\n",
    "\n",
    "\n"
   ]
  },
  {
   "cell_type": "code",
   "execution_count": null,
   "id": "ff87d3b0-1892-44c2-b7fe-bda92842c511",
   "metadata": {},
   "outputs": [],
   "source": []
  }
 ],
 "metadata": {
  "kernelspec": {
   "display_name": "anaconda-2022.05-py39",
   "language": "python",
   "name": "conda-env-anaconda-2022.05-py39-py"
  },
  "language_info": {
   "codemirror_mode": {
    "name": "ipython",
    "version": 3
   },
   "file_extension": ".py",
   "mimetype": "text/x-python",
   "name": "python",
   "nbconvert_exporter": "python",
   "pygments_lexer": "ipython3",
   "version": "3.9.12"
  }
 },
 "nbformat": 4,
 "nbformat_minor": 5
}
